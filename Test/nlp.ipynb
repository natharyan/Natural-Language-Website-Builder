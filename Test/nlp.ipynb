{
 "cells": [
  {
   "cell_type": "code",
   "execution_count": 24,
   "metadata": {},
   "outputs": [
    {
     "name": "stdout",
     "output_type": "stream",
     "text": [
      "[('Hi', 'NNP'), ('give', 'VB'), ('me', 'PRP'), ('a', 'DT'), ('section', 'NN'), ('header', 'NN'), ('with', 'IN'), ('the', 'DT'), ('title', 'NN'), ('as', 'IN'), (\"'Culinary Chronicles'\", 'NN'), ('and', 'CC'), ('the', 'DT'), ('description', 'NN'), ('as', 'IN'), (\"'A journey through global flavors, recipes, and culinary traditions.'\", 'NN')]\n",
      "[('section', 'NN'), ('header', 'NN'), ('title', 'NN'), (\"'Culinary Chronicles'\", 'NN'), ('description', 'NN'), (\"'A journey through global flavors, recipes, and culinary traditions.'\", 'NN')]\n",
      "['section', 'header', 'title', \"'Culinary Chronicles'\", 'description', \"'A journey through global flavors, recipes, and culinary traditions.'\"]\n",
      "\n",
      "'Culinary Chronicles'\n",
      "'A journey through global flavors, recipes, and culinary traditions.'\n"
     ]
    }
   ],
   "source": [
    "import nltk\n",
    "from nltk.tokenize import RegexpTokenizer\n",
    "from nltk import pos_tag\n",
    "\n",
    "# nltk.download('punkt')\n",
    "# nltk.download('averaged_perceptron_tagger')\n",
    "\n",
    "#header\n",
    "prompts = [\"Hi, give me a section header with the title as 'Culinary Chronicles' and the description as 'A journey through global flavors, recipes, and culinary traditions.'\"]\n",
    "titles = ['title','heading','main heading']\n",
    "descriptions = ['description','subheading','info','details','overview','explanation','summary']\n",
    "\n",
    "def tokenize_with_phrase(text,phrase):\n",
    "    tokenizer = RegexpTokenizer(rf'{phrase}|\\w+')\n",
    "    tokens = tokenizer.tokenize(text)\n",
    "    tagged_tokens = pos_tag(tokens)\n",
    "    return tagged_tokens\n",
    "text = prompts[0]\n",
    "phrase = \"'[^']+'\"\n",
    "tokens = tokenize_with_phrase(text,phrase)\n",
    "print(tokens)\n",
    "\n",
    "nn_tokens = list(filter(lambda token: token[1] == 'NN', tokens))\n",
    "print(nn_tokens)\n",
    "\n",
    "nn_tokens_token = list(map(lambda token: token[0],nn_tokens))\n",
    "print(nn_tokens_token)\n",
    "\n",
    "def rich_content(text,filter):\n",
    "    for i,candidate in enumerate(text):\n",
    "        if candidate in filter and i+1<len(text):\n",
    "            content = text[i+1]\n",
    "    return content\n",
    "title = rich_content(nn_tokens_token,titles)\n",
    "description = rich_content(nn_tokens_token,descriptions)\n",
    "\n",
    "print()\n",
    "print(title,description,sep='\\n')"
   ]
  },
  {
   "cell_type": "code",
   "execution_count": null,
   "metadata": {},
   "outputs": [],
   "source": []
  }
 ],
 "metadata": {
  "kernelspec": {
   "display_name": ".venv",
   "language": "python",
   "name": "python3"
  },
  "language_info": {
   "codemirror_mode": {
    "name": "ipython",
    "version": 3
   },
   "file_extension": ".py",
   "mimetype": "text/x-python",
   "name": "python",
   "nbconvert_exporter": "python",
   "pygments_lexer": "ipython3",
   "version": "3.11.3"
  },
  "orig_nbformat": 4
 },
 "nbformat": 4,
 "nbformat_minor": 2
}
